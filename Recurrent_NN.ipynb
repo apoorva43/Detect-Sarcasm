{
 "cells": [
  {
   "cell_type": "code",
   "execution_count": 1,
   "metadata": {
    "colab": {
     "base_uri": "https://localhost:8080/",
     "height": 35
    },
    "colab_type": "code",
    "id": "wt4dAMEyMsqT",
    "outputId": "4f26584b-b01b-46e2-b807-7a0503cc18fb"
   },
   "outputs": [
    {
     "name": "stdout",
     "output_type": "stream",
     "text": [
      "cuda\n"
     ]
    }
   ],
   "source": [
    "# Google colab link: https://colab.research.google.com/drive/1gp-AwDvdchMGJaODYjJOtaDLhfg1ifj4\n",
    "\n",
    "import torch\n",
    "import torch.nn as nn\n",
    "import torchvision\n",
    "import torchvision.transforms as transforms\n",
    "from torch.utils.data import TensorDataset, DataLoader\n",
    "\n",
    "# Device configuration\n",
    "device = torch.device('cuda' if torch.cuda.is_available() else 'cpu')\n",
    "print(device)"
   ]
  },
  {
   "cell_type": "code",
   "execution_count": 0,
   "metadata": {
    "colab": {},
    "colab_type": "code",
    "id": "y8PyL-EyN1SD"
   },
   "outputs": [],
   "source": [
    "import pandas as pd\n",
    "import numpy as np\n",
    "\n",
    "# Read data\n",
    "train = pd.read_csv('train-balanced-sarcasm.csv')\n",
    "train = train.dropna(subset = ['comment']) # drop na values"
   ]
  },
  {
   "cell_type": "code",
   "execution_count": 0,
   "metadata": {
    "colab": {},
    "colab_type": "code",
    "id": "GbwXXxXwN1oF"
   },
   "outputs": [],
   "source": [
    "# without meta-data\n",
    "# for meta-data, do same as SVM and Logistic Regression\n",
    "from sklearn.feature_extraction.text import CountVectorizer, TfidfVectorizer\n",
    "# use CountVectorizer for comparison \n",
    "tfidf_vectorizer = TfidfVectorizer(ngram_range = (1, 2), stop_words = 'english', max_features = 500) \n",
    "one_hot = tfidf_vectorizer.fit_transform(train['comment']).toarray()"
   ]
  },
  {
   "cell_type": "code",
   "execution_count": 4,
   "metadata": {
    "colab": {
     "base_uri": "https://localhost:8080/",
     "height": 52
    },
    "colab_type": "code",
    "id": "b9DtOgvMN1yU",
    "outputId": "1d0c8c81-0bd0-4369-e491-f7a819c59e63"
   },
   "outputs": [
    {
     "name": "stdout",
     "output_type": "stream",
     "text": [
      "(1010773, 500)\n",
      "(1010773,)\n"
     ]
    }
   ],
   "source": [
    "print(one_hot.shape)\n",
    "y = np.asarray(train['label'])\n",
    "print(y.shape)\n",
    "np.random.seed(1001)\n",
    "mask = np.random.rand((len(y))) # for train-test split"
   ]
  },
  {
   "cell_type": "code",
   "execution_count": 5,
   "metadata": {
    "colab": {
     "base_uri": "https://localhost:8080/",
     "height": 35
    },
    "colab_type": "code",
    "id": "zdhFZY8wN14f",
    "outputId": "bb397c10-d2bd-4610-c770-61cfae7929d5"
   },
   "outputs": [
    {
     "name": "stdout",
     "output_type": "stream",
     "text": [
      "torch.Size([859133, 500]) torch.Size([151640, 500])\n"
     ]
    }
   ],
   "source": [
    "x_train = torch.from_numpy(one_hot[mask <= 0.85])\n",
    "x_test = torch.from_numpy(one_hot[mask > 0.85])\n",
    "print(x_train.shape, x_test.shape)"
   ]
  },
  {
   "cell_type": "code",
   "execution_count": 6,
   "metadata": {
    "colab": {
     "base_uri": "https://localhost:8080/",
     "height": 35
    },
    "colab_type": "code",
    "id": "OUGkHblxOXMu",
    "outputId": "ce9e95a5-d67b-4035-edf1-1c54b89c33f6"
   },
   "outputs": [
    {
     "name": "stdout",
     "output_type": "stream",
     "text": [
      "torch.Size([859133]) torch.Size([151640])\n"
     ]
    }
   ],
   "source": [
    "y_train = torch.from_numpy(y[mask <= 0.85])\n",
    "y_test = torch.from_numpy(y[mask > 0.85])\n",
    "print(y_train.shape, y_test.shape)"
   ]
  },
  {
   "cell_type": "code",
   "execution_count": 0,
   "metadata": {
    "colab": {},
    "colab_type": "code",
    "id": "clIQFEoeOXUa"
   },
   "outputs": [],
   "source": [
    "train = TensorDataset(x_train, y_train)\n",
    "test = TensorDataset(x_test, y_test)\n",
    "# Data loader\n",
    "train_loader = DataLoader(train, batch_size = 500, shuffle = True)\n",
    "test_loader = DataLoader(test, batch_size = 500, shuffle = False)"
   ]
  },
  {
   "cell_type": "code",
   "execution_count": 0,
   "metadata": {
    "colab": {},
    "colab_type": "code",
    "id": "IYN5W-kzN19d"
   },
   "outputs": [],
   "source": [
    "import warnings\n",
    "warnings.filterwarnings('ignore')"
   ]
  },
  {
   "cell_type": "code",
   "execution_count": 0,
   "metadata": {
    "colab": {},
    "colab_type": "code",
    "id": "hG87SKcyOdZ7"
   },
   "outputs": [],
   "source": [
    "# Hyper-parameters\n",
    "sequence_length = 25\n",
    "input_size = 20\n",
    "hidden_size = 128\n",
    "num_layers = 2\n",
    "num_classes = 2\n",
    "batch_size = 500\n",
    "num_epochs = 200\n",
    "learning_rate = 0.001"
   ]
  },
  {
   "cell_type": "code",
   "execution_count": 0,
   "metadata": {
    "colab": {},
    "colab_type": "code",
    "id": "I8q_cELOOdkz"
   },
   "outputs": [],
   "source": [
    "# Recurrent neural network \n",
    "class RNN(nn.Module):\n",
    "    def __init__(self, input_size, hidden_size, num_layers, num_classes):\n",
    "        super(RNN, self).__init__()\n",
    "        self.hidden_size = hidden_size\n",
    "        self.num_layers = num_layers\n",
    "        self.lstm = nn.LSTM(input_size, hidden_size, num_layers, batch_first = True)\n",
    "        self.fc = nn.Linear(hidden_size, num_classes)\n",
    "    \n",
    "    def forward(self, x):\n",
    "        # Set initial hidden and cell states \n",
    "        h0 = torch.zeros(self.num_layers, x.size(0), self.hidden_size).to(device) \n",
    "        c0 = torch.zeros(self.num_layers, x.size(0), self.hidden_size).to(device)\n",
    "        \n",
    "        # Forward propagate LSTM\n",
    "        out, _ = self.lstm(x, (h0, c0))  # out: tensor of shape (batch_size, seq_length, hidden_size)\n",
    "        \n",
    "        # Decode the hidden state of the last time step\n",
    "        out = self.fc(out[:, -1, :])\n",
    "        return out"
   ]
  },
  {
   "cell_type": "code",
   "execution_count": 0,
   "metadata": {
    "colab": {},
    "colab_type": "code",
    "id": "I8HPxqJxSRDp"
   },
   "outputs": [],
   "source": [
    "model = RNN(input_size, hidden_size, num_layers, num_classes).to(device)"
   ]
  },
  {
   "cell_type": "code",
   "execution_count": 40,
   "metadata": {
    "colab": {
     "base_uri": "https://localhost:8080/",
     "height": 1000
    },
    "colab_type": "code",
    "id": "a418OrZ_SRNg",
    "outputId": "f6898e52-657c-4ca5-a10e-992504adf376",
    "scrolled": false
   },
   "outputs": [
    {
     "name": "stdout",
     "output_type": "stream",
     "text": [
      "Epoch:  1 , Loss:  0.6657625700305408\n",
      "Epoch:  2 , Loss:  0.6517248444254833\n",
      "Epoch:  3 , Loss:  0.6472949348541801\n",
      "Epoch:  4 , Loss:  0.6444969481337272\n",
      "Epoch:  5 , Loss:  0.6423528320640932\n",
      "Epoch:  6 , Loss:  0.6406939564367031\n",
      "Epoch:  7 , Loss:  0.6390961499114312\n",
      "Epoch:  8 , Loss:  0.6378630514474994\n",
      "Epoch:  9 , Loss:  0.6364067069592345\n",
      "Epoch:  10 , Loss:  0.6352862665443798\n",
      "Epoch:  11 , Loss:  0.6340715009990024\n",
      "Epoch:  12 , Loss:  0.6329189243879757\n",
      "Epoch:  13 , Loss:  0.631758556107992\n",
      "Epoch:  14 , Loss:  0.6306844728502026\n",
      "Epoch:  15 , Loss:  0.6297587964893983\n",
      "Epoch:  16 , Loss:  0.6286483686839931\n",
      "Epoch:  17 , Loss:  0.627662649225398\n",
      "Epoch:  18 , Loss:  0.6264551293718184\n",
      "Epoch:  19 , Loss:  0.6253795435152614\n",
      "Epoch:  20 , Loss:  0.6243506327072086\n",
      "Epoch:  21 , Loss:  0.6230307885073451\n",
      "Epoch:  22 , Loss:  0.6218619414579737\n",
      "Epoch:  23 , Loss:  0.6205841630541217\n",
      "Epoch:  24 , Loss:  0.6191281058401338\n",
      "Epoch:  25 , Loss:  0.617603438582928\n",
      "Epoch:  26 , Loss:  0.6161604771231274\n",
      "Epoch:  27 , Loss:  0.6147261985240113\n",
      "Epoch:  28 , Loss:  0.6131099012787082\n",
      "Epoch:  29 , Loss:  0.6112431634505728\n",
      "Epoch:  30 , Loss:  0.6096934205643864\n",
      "Epoch:  31 , Loss:  0.6079097409939058\n",
      "Epoch:  32 , Loss:  0.6062874411205139\n",
      "Epoch:  33 , Loss:  0.6043451543184406\n",
      "Epoch:  34 , Loss:  0.6025588019009314\n",
      "Epoch:  35 , Loss:  0.6005975654334644\n",
      "Epoch:  36 , Loss:  0.5987380041917997\n",
      "Epoch:  37 , Loss:  0.5967577216998307\n",
      "Epoch:  38 , Loss:  0.5951241903904221\n",
      "Epoch:  39 , Loss:  0.592989856694728\n",
      "Epoch:  40 , Loss:  0.5912780840428781\n",
      "Epoch:  41 , Loss:  0.5895566123040905\n",
      "Epoch:  42 , Loss:  0.587916302084576\n",
      "Epoch:  43 , Loss:  0.585847993345022\n",
      "Epoch:  44 , Loss:  0.584209929620755\n",
      "Epoch:  45 , Loss:  0.5823903857725453\n",
      "Epoch:  46 , Loss:  0.5804314476033156\n",
      "Epoch:  47 , Loss:  0.5787067855770606\n",
      "Epoch:  48 , Loss:  0.5771112627175882\n",
      "Epoch:  49 , Loss:  0.5756542157683003\n",
      "Epoch:  50 , Loss:  0.5741912604349169\n",
      "Epoch:  51 , Loss:  0.5726984911633481\n",
      "Epoch:  52 , Loss:  0.5709068234955731\n",
      "Epoch:  53 , Loss:  0.569460176672611\n",
      "Epoch:  54 , Loss:  0.5678260739006367\n",
      "Epoch:  55 , Loss:  0.56652330904939\n",
      "Epoch:  56 , Loss:  0.564952895036612\n",
      "Epoch:  57 , Loss:  0.5641435965193504\n",
      "Epoch:  58 , Loss:  0.5621711403183496\n",
      "Epoch:  59 , Loss:  0.5610528194224716\n",
      "Epoch:  60 , Loss:  0.559734967158519\n",
      "Epoch:  61 , Loss:  0.5584479740464875\n",
      "Epoch:  62 , Loss:  0.5573664437448513\n",
      "Epoch:  63 , Loss:  0.5557623396369176\n",
      "Epoch:  64 , Loss:  0.5548978463864174\n",
      "Epoch:  65 , Loss:  0.5537499966768417\n",
      "Epoch:  66 , Loss:  0.5524493210221391\n",
      "Epoch:  67 , Loss:  0.5512310197840187\n",
      "Epoch:  68 , Loss:  0.550480979396688\n",
      "Epoch:  69 , Loss:  0.5489506773680985\n",
      "Epoch:  70 , Loss:  0.5481862556351833\n",
      "Epoch:  71 , Loss:  0.5472245229545758\n",
      "Epoch:  72 , Loss:  0.5461013199389848\n",
      "Epoch:  73 , Loss:  0.5448079781347822\n",
      "Epoch:  74 , Loss:  0.5443216761820118\n",
      "Epoch:  75 , Loss:  0.5427457004040046\n",
      "Epoch:  76 , Loss:  0.5426465816938856\n",
      "Epoch:  77 , Loss:  0.5417644541543747\n",
      "Epoch:  78 , Loss:  0.5406851152162901\n",
      "Epoch:  79 , Loss:  0.5398173483393094\n",
      "Epoch:  80 , Loss:  0.538490173704337\n",
      "Epoch:  81 , Loss:  0.5383781077488693\n",
      "Epoch:  82 , Loss:  0.5378273785148963\n",
      "Epoch:  83 , Loss:  0.5367191110224555\n",
      "Epoch:  84 , Loss:  0.5356520788831861\n",
      "Epoch:  85 , Loss:  0.5349168061967365\n",
      "Epoch:  86 , Loss:  0.5341556515542486\n",
      "Epoch:  87 , Loss:  0.5329673835848431\n",
      "Epoch:  88 , Loss:  0.5325461097967493\n",
      "Epoch:  89 , Loss:  0.5316938257203537\n",
      "Epoch:  90 , Loss:  0.5316107151569358\n",
      "Epoch:  91 , Loss:  0.5302793517960165\n",
      "Epoch:  92 , Loss:  0.5290922793175606\n",
      "Epoch:  93 , Loss:  0.5290236411363736\n",
      "Epoch:  94 , Loss:  0.5278034523484872\n",
      "Epoch:  95 , Loss:  0.5275576693537347\n",
      "Epoch:  96 , Loss:  0.5270621747974742\n",
      "Epoch:  97 , Loss:  0.5262604498148935\n",
      "Epoch:  98 , Loss:  0.5260593833411551\n",
      "Epoch:  99 , Loss:  0.5259746477623329\n",
      "Epoch:  100 , Loss:  0.5248074054093885\n",
      "Epoch:  101 , Loss:  0.5233074612850502\n",
      "Epoch:  102 , Loss:  0.5231233054881459\n",
      "Epoch:  103 , Loss:  0.5227364559829617\n",
      "Epoch:  104 , Loss:  0.5224928045564089\n",
      "Epoch:  105 , Loss:  0.5213765775033941\n",
      "Epoch:  106 , Loss:  0.5204941212021382\n",
      "Epoch:  107 , Loss:  0.5204670659985356\n",
      "Epoch:  108 , Loss:  0.5198575671049244\n",
      "Epoch:  109 , Loss:  0.5193758883782775\n",
      "Epoch:  110 , Loss:  0.5186088694397137\n",
      "Epoch:  111 , Loss:  0.5189457859425713\n",
      "Epoch:  112 , Loss:  0.5170136738856772\n",
      "Epoch:  113 , Loss:  0.5169561366968338\n",
      "Epoch:  114 , Loss:  0.5168294475964851\n",
      "Epoch:  115 , Loss:  0.5171211066809139\n",
      "Epoch:  116 , Loss:  0.5150621242478811\n",
      "Epoch:  117 , Loss:  0.5149728008277753\n",
      "Epoch:  118 , Loss:  0.5148429717346289\n",
      "Epoch:  119 , Loss:  0.5153665805084889\n",
      "Epoch:  120 , Loss:  0.5132526612649344\n",
      "Epoch:  121 , Loss:  0.5129337159265537\n",
      "Epoch:  122 , Loss:  0.513091841050537\n",
      "Epoch:  123 , Loss:  0.5126880335558147\n",
      "Epoch:  124 , Loss:  0.5121138278241072\n",
      "Epoch:  125 , Loss:  0.5114422702664481\n",
      "Epoch:  126 , Loss:  0.5108104245720941\n",
      "Epoch:  127 , Loss:  0.5112334433303731\n",
      "Epoch:  128 , Loss:  0.5095847122990995\n",
      "Epoch:  129 , Loss:  0.5102988082423607\n",
      "Epoch:  130 , Loss:  0.5088420458627759\n",
      "Epoch:  131 , Loss:  0.5093714565888194\n",
      "Epoch:  132 , Loss:  0.5080685856177267\n",
      "Epoch:  133 , Loss:  0.5079548021018887\n",
      "Epoch:  134 , Loss:  0.5078085030560718\n",
      "Epoch:  135 , Loss:  0.5068184253849076\n",
      "Epoch:  136 , Loss:  0.506599904060225\n",
      "Epoch:  137 , Loss:  0.5062812408123549\n",
      "Epoch:  138 , Loss:  0.5071377908857566\n",
      "Epoch:  139 , Loss:  0.504978331127716\n",
      "Epoch:  140 , Loss:  0.5056576851566841\n",
      "Epoch:  141 , Loss:  0.5047462191811961\n",
      "Epoch:  142 , Loss:  0.5058594434638576\n",
      "Epoch:  143 , Loss:  0.5034336401946049\n",
      "Epoch:  144 , Loss:  0.5040779055343804\n",
      "Epoch:  145 , Loss:  0.5029150820388705\n",
      "Epoch:  146 , Loss:  0.5031580741908954\n",
      "Epoch:  147 , Loss:  0.5033286769699399\n",
      "Epoch:  148 , Loss:  0.5036420707025799\n",
      "Epoch:  149 , Loss:  0.5020692595185895\n",
      "Epoch:  150 , Loss:  0.5011002741420317\n",
      "Epoch:  151 , Loss:  0.5020969104045626\n",
      "Epoch:  152 , Loss:  0.5008570514424309\n",
      "Epoch:  153 , Loss:  0.5006620524892147\n",
      "Epoch:  154 , Loss:  0.5004534468600887\n",
      "Epoch:  155 , Loss:  0.5011684349832873\n",
      "Epoch:  156 , Loss:  0.499013024717656\n",
      "Epoch:  157 , Loss:  0.4989908009750195\n",
      "Epoch:  158 , Loss:  0.4987724921327472\n",
      "Epoch:  159 , Loss:  0.4995442566273863\n",
      "Epoch:  160 , Loss:  0.4981412665312758\n",
      "Epoch:  161 , Loss:  0.4984990812929097\n",
      "Epoch:  162 , Loss:  0.49760524873958206\n",
      "Epoch:  163 , Loss:  0.49718156271441305\n",
      "Epoch:  164 , Loss:  0.4969853738180907\n",
      "Epoch:  165 , Loss:  0.4967829574846542\n",
      "Epoch:  166 , Loss:  0.49546034211957085\n",
      "Epoch:  167 , Loss:  0.496982213766371\n",
      "Epoch:  168 , Loss:  0.4954585114352019\n",
      "Epoch:  169 , Loss:  0.49745823247894566\n",
      "Epoch:  170 , Loss:  0.4950561840011326\n",
      "Epoch:  171 , Loss:  0.49625888825711156\n",
      "Epoch:  172 , Loss:  0.4947706365945937\n",
      "Epoch:  173 , Loss:  0.4954121530125348\n",
      "Epoch:  174 , Loss:  0.49426052860217845\n",
      "Epoch:  175 , Loss:  0.49346810698925303\n",
      "Epoch:  176 , Loss:  0.4943698879207824\n",
      "Epoch:  177 , Loss:  0.4938474835664329\n",
      "Epoch:  178 , Loss:  0.49322004797432295\n",
      "Epoch:  179 , Loss:  0.49282680452736816\n",
      "Epoch:  180 , Loss:  0.4928983929477645\n",
      "Epoch:  181 , Loss:  0.4936602189486772\n",
      "Epoch:  182 , Loss:  0.4920754952788561\n",
      "Epoch:  183 , Loss:  0.4923899479734821\n",
      "Epoch:  184 , Loss:  0.492198635319626\n",
      "Epoch:  185 , Loss:  0.49165132714607745\n",
      "Epoch:  186 , Loss:  0.49097584044954123\n",
      "Epoch:  187 , Loss:  0.49195698326656195\n",
      "Epoch:  188 , Loss:  0.4910482197670551\n",
      "Epoch:  189 , Loss:  0.49101994703716145\n",
      "Epoch:  190 , Loss:  0.4911755488978492\n",
      "Epoch:  191 , Loss:  0.4895075141274007\n",
      "Epoch:  192 , Loss:  0.4899231300858858\n",
      "Epoch:  193 , Loss:  0.49022961772410517\n",
      "Epoch:  194 , Loss:  0.4895722368486126\n",
      "Epoch:  195 , Loss:  0.48980544978203366\n",
      "Epoch:  196 , Loss:  0.48855303221833507\n",
      "Epoch:  197 , Loss:  0.48923370290662466\n",
      "Epoch:  198 , Loss:  0.4877585147687902\n",
      "Epoch:  199 , Loss:  0.4889147507027875\n",
      "Epoch:  200 , Loss:  0.4892051239877748\n"
     ]
    }
   ],
   "source": [
    "# Loss and optimizer\n",
    "criterion = nn.CrossEntropyLoss()\n",
    "optimizer = torch.optim.Adam(model.parameters(), lr=learning_rate)\n",
    "\n",
    "# Train the model\n",
    "losses = []\n",
    "total_step = len(train_loader)\n",
    "for epoch in range(num_epochs):\n",
    "    running_loss = 0\n",
    "    for i, data in enumerate(train_loader, 0):\n",
    "        inputs, labels = data\n",
    "        model.to(device)\n",
    "        inputs, labels = inputs.float(), labels.long()\n",
    "        inputs = inputs.reshape(-1, sequence_length, input_size).to(device)\n",
    "        labels = labels.to(device) # move to GPU\n",
    "        \n",
    "        # Forward pass\n",
    "        outputs = model(inputs)\n",
    "        loss = criterion(outputs, labels)\n",
    "        \n",
    "        # Backward and optimize\n",
    "        optimizer.zero_grad()\n",
    "        loss.backward()\n",
    "        optimizer.step()\n",
    "        running_loss += loss.item()\n",
    "        \n",
    "    print(\"Epoch: \", epoch + 1, \", Loss: \", running_loss / total_step)\n",
    "    losses.append(running_loss / total_step)"
   ]
  },
  {
   "cell_type": "code",
   "execution_count": 41,
   "metadata": {
    "colab": {
     "base_uri": "https://localhost:8080/",
     "height": 331
    },
    "colab_type": "code",
    "id": "hHR8V4vRSRU6",
    "outputId": "a6cb733c-cd4f-414f-e9c5-4f5ea1205607"
   },
   "outputs": [
    {
     "name": "stdout",
     "output_type": "stream",
     "text": [
      "200\n",
      "200\n",
      "\n"
     ]
    },
    {
     "data": {
      "image/png": "[encoded data removed]",
      "text/plain": [
       "<Figure size 432x288 with 1 Axes>"
      ]
     },
     "metadata": {
      "tags": []
     },
     "output_type": "display_data"
    }
   ],
   "source": [
    "import matplotlib.pyplot as plt\n",
    "print(len(losses)) # sanity check\n",
    "epochs = []\n",
    "for i in range(1, 201): \n",
    "    epochs.append(i)\n",
    "print(len(epochs)) # sanity check\n",
    "print()\n",
    "plt.plot(epochs, losses)\n",
    "plt.xlabel('Number of epochs')\n",
    "plt.ylabel('Training Loss')\n",
    "plt.show()"
   ]
  },
  {
   "cell_type": "code",
   "execution_count": 42,
   "metadata": {
    "colab": {
     "base_uri": "https://localhost:8080/",
     "height": 104
    },
    "colab_type": "code",
    "id": "RCQ2MCRWf4bM",
    "outputId": "1c8569b1-fa46-4465-c934-7d1aea4d5572"
   },
   "outputs": [
    {
     "name": "stdout",
     "output_type": "stream",
     "text": [
      "Recurrent Neural Network for TF-IDF vectorization:\n",
      "Training accuracy:  73.37757949002075\n",
      "Precision:  0.7994965942573572  | Recall:  0.6240694269206237  | F1-score:  0.7009739962609003\n",
      "Confusion matrix values: \n",
      "TP:  268084 , FN:  161490 , FP:  67232 , TN:  362327\n"
     ]
    }
   ],
   "source": [
    "# Performance on train set\n",
    "with torch.no_grad():\n",
    "    correct, total = 0, 0\n",
    "    tp, fp, fn, tn = 0, 0, 0, 0 # for confusion matrix\n",
    "    for i, data in enumerate(train_loader, 0): \n",
    "        inputs, labels = data \n",
    "        model.to(device) \n",
    "        inputs, labels = inputs.float(), labels.long()\n",
    "        inputs = inputs.reshape(-1, sequence_length, input_size).to(device) # move to GPU\n",
    "        labels = labels.to(device)\n",
    "\n",
    "        outputs = model(inputs)\n",
    "        _, predicted = torch.max(outputs.data, 1)\n",
    "        total += labels.size(0)\n",
    "        correct += (predicted == labels).sum().item()\n",
    "        # true positives\n",
    "        tp += (predicted[labels == 1] == labels[labels == 1]).sum().item()\n",
    "        # false negatives\n",
    "        fn += (predicted[labels == 1] != labels[labels == 1]).sum().item()\n",
    "        # false positives\n",
    "        fp += (predicted[labels == 0] != labels[labels == 0]).sum().item()\n",
    "        # true negatives\n",
    "        tn += (predicted[labels == 0] == labels[labels == 0]).sum().item()\n",
    "        precision = (tp / (tp + fp))\n",
    "        recall =  (tp / (tp + fn))\n",
    "        f1 = 2 * (precision * recall) / (precision + recall)\n",
    "\n",
    "print(\"Recurrent Neural Network for TF-IDF vectorization:\")\n",
    "print(\"Training accuracy: \", (100 * correct) / total)\n",
    "print(\"Precision: \", precision, \" | Recall: \", recall, \" | F1-score: \", f1)\n",
    "print(\"Confusion matrix values: \")\n",
    "print(\"TP: \", tp, \", FN: \", fn, \", FP: \", fp, \", TN: \", tn)"
   ]
  },
  {
   "cell_type": "code",
   "execution_count": 45,
   "metadata": {
    "colab": {
     "base_uri": "https://localhost:8080/",
     "height": 87
    },
    "colab_type": "code",
    "id": "61PUd7XSf4ss",
    "outputId": "6eca3810-840c-40c1-8030-c60ec8361126"
   },
   "outputs": [
    {
     "name": "stdout",
     "output_type": "stream",
     "text": [
      "Testing accuracy:  68.12582432075969\n",
      "Precision:  0.7097935365196156  | Recall:  0.598457095488943  | F1-score:  0.6493877669452183\n",
      "Confusion matrix values: \n",
      "TP:  44761 , FN:  30033 , FP:  18301 , TN:  58545\n"
     ]
    }
   ],
   "source": [
    "# Performance on test set\n",
    "with torch.no_grad():\n",
    "    correct, total = 0, 0\n",
    "    tp, fp, fn, tn = 0, 0, 0, 0 # for confusion matrix\n",
    "    for i, data in enumerate(test_loader, 0): \n",
    "        inputs, labels = data \n",
    "        model.to(device) \n",
    "        inputs, labels = inputs.float(), labels.long()\n",
    "        inputs = inputs.reshape(-1, sequence_length, input_size).to(device) # move to GPU\n",
    "        labels = labels.to(device)\n",
    "\n",
    "        outputs = model(inputs)\n",
    "        _, predicted = torch.max(outputs.data, 1)\n",
    "        total += labels.size(0)\n",
    "        correct += (predicted == labels).sum().item()\n",
    "        # true positives\n",
    "        tp += (predicted[labels == 1] == labels[labels == 1]).sum().item()\n",
    "        # false negatives\n",
    "        fn += (predicted[labels == 1] != labels[labels == 1]).sum().item()\n",
    "        # false positives\n",
    "        fp += (predicted[labels == 0] != labels[labels == 0]).sum().item()\n",
    "        # true negatives\n",
    "        tn += (predicted[labels == 0] == labels[labels == 0]).sum().item()\n",
    "        precision = (tp / (tp + fp))\n",
    "        recall =  (tp / (tp + fn))\n",
    "        f1 = 2 * (precision * recall) / (precision + recall)\n",
    "\n",
    "print(\"Testing accuracy: \", (100 * correct) / total)\n",
    "print(\"Precision: \", precision, \" | Recall: \", recall, \" | F1-score: \", f1)\n",
    "print(\"Confusion matrix values: \")\n",
    "print(\"TP: \", tp, \", FN: \", fn, \", FP: \", fp, \", TN: \", tn)"
   ]
  }
 ],
 "metadata": {
  "accelerator": "GPU",
  "colab": {
   "collapsed_sections": [],
   "name": "Recurrent_NN.ipynb",
   "provenance": []
  },
  "kernelspec": {
   "display_name": "Python 3",
   "language": "python",
   "name": "python3"
  },
  "language_info": {
   "codemirror_mode": {
    "name": "ipython",
    "version": 3
   },
   "file_extension": ".py",
   "mimetype": "text/x-python",
   "name": "python",
   "nbconvert_exporter": "python",
   "pygments_lexer": "ipython3",
   "version": "3.7.0"
  }
 },
 "nbformat": 4,
 "nbformat_minor": 1
}
