{
 "cells": [
  {
   "cell_type": "code",
   "execution_count": 2,
   "metadata": {
    "colab": {
     "base_uri": "https://localhost:8080/",
     "height": 35
    },
    "colab_type": "code",
    "id": "Y7X66t-h7EVf",
    "outputId": "8647c7d7-b2cb-4373-bbb8-99942b7d6747"
   },
   "outputs": [
    {
     "name": "stdout",
     "output_type": "stream",
     "text": [
      "cuda\n"
     ]
    }
   ],
   "source": [
    "# Google colab link: https://colab.research.google.com/drive/1naZ2DyxELRxfW9-jm1xsbz3pucnLdIaK\n",
    "\n",
    "import torch\n",
    "import torch.nn as nn\n",
    "import torchvision\n",
    "import torchvision.transforms as transforms\n",
    "from torch.utils.data import TensorDataset, DataLoader\n",
    "\n",
    "# Device configuration\n",
    "device = torch.device('cuda' if torch.cuda.is_available() else 'cpu')\n",
    "print(device)"
   ]
  },
  {
   "cell_type": "code",
   "execution_count": 0,
   "metadata": {
    "colab": {},
    "colab_type": "code",
    "id": "n55yI2bP7F7n"
   },
   "outputs": [],
   "source": [
    "import pandas as pd\n",
    "import numpy as np\n",
    "\n",
    "# Read data\n",
    "train = pd.read_csv('train-balanced-sarcasm.csv')\n",
    "train = train.dropna(subset = ['comment']) # drop na values"
   ]
  },
  {
   "cell_type": "code",
   "execution_count": 0,
   "metadata": {
    "colab": {},
    "colab_type": "code",
    "id": "yLPU6pSv_rhU"
   },
   "outputs": [],
   "source": [
    "# without meta-data\n",
    "from sklearn.feature_extraction.text import CountVectorizer, TfidfVectorizer\n",
    "# for meta-data, same as Logistic Regression and SVM\n",
    "# change to CountVectorizer for experimentation\n",
    "tfidf_vectorizer = TfidfVectorizer(ngram_range = (1, 2), stop_words = 'english', max_features = 500) \n",
    "one_hot = tfidf_vectorizer.fit_transform(train['comment']).toarray()"
   ]
  },
  {
   "cell_type": "code",
   "execution_count": 5,
   "metadata": {
    "colab": {
     "base_uri": "https://localhost:8080/",
     "height": 35
    },
    "colab_type": "code",
    "id": "_wqYRCKCAKDh",
    "outputId": "a58456db-2c8f-4189-9ee4-c8018c44a6a6"
   },
   "outputs": [
    {
     "name": "stdout",
     "output_type": "stream",
     "text": [
      "(1010773, 500)\n"
     ]
    }
   ],
   "source": [
    "print(one_hot.shape)"
   ]
  },
  {
   "cell_type": "code",
   "execution_count": 6,
   "metadata": {
    "colab": {
     "base_uri": "https://localhost:8080/",
     "height": 35
    },
    "colab_type": "code",
    "id": "V4l1Hq-nAQO3",
    "outputId": "84e0aebf-55ff-4a52-f1de-83acceb2748f"
   },
   "outputs": [
    {
     "name": "stdout",
     "output_type": "stream",
     "text": [
      "(1010773,)\n"
     ]
    }
   ],
   "source": [
    "y = np.asarray(train['label'])\n",
    "print(y.shape)"
   ]
  },
  {
   "cell_type": "code",
   "execution_count": 0,
   "metadata": {
    "colab": {},
    "colab_type": "code",
    "id": "A1ZBMX0wAQjt"
   },
   "outputs": [],
   "source": [
    "np.random.seed(1001)\n",
    "mask = np.random.rand((len(y))) # for train-test split"
   ]
  },
  {
   "cell_type": "code",
   "execution_count": 8,
   "metadata": {
    "colab": {
     "base_uri": "https://localhost:8080/",
     "height": 35
    },
    "colab_type": "code",
    "id": "EdIDcpyWAabu",
    "outputId": "a77c7320-d022-4e3f-fd49-5c3a3cc8777e"
   },
   "outputs": [
    {
     "name": "stdout",
     "output_type": "stream",
     "text": [
      "torch.Size([859133, 500]) torch.Size([151640, 500])\n"
     ]
    }
   ],
   "source": [
    "x_train = torch.from_numpy(one_hot[mask <= 0.85])\n",
    "x_test = torch.from_numpy(one_hot[mask > 0.85])\n",
    "print(x_train.shape, x_test.shape)"
   ]
  },
  {
   "cell_type": "code",
   "execution_count": 9,
   "metadata": {
    "colab": {
     "base_uri": "https://localhost:8080/",
     "height": 35
    },
    "colab_type": "code",
    "id": "V-9TuKOWAamq",
    "outputId": "06c3f9b3-239a-4e41-fb76-dcee69510242"
   },
   "outputs": [
    {
     "name": "stdout",
     "output_type": "stream",
     "text": [
      "torch.Size([859133]) torch.Size([151640])\n"
     ]
    }
   ],
   "source": [
    "y_train = torch.from_numpy(y[mask <= 0.85])\n",
    "y_test = torch.from_numpy(y[mask > 0.85])\n",
    "print(y_train.shape, y_test.shape)"
   ]
  },
  {
   "cell_type": "code",
   "execution_count": 0,
   "metadata": {
    "colab": {},
    "colab_type": "code",
    "id": "0BEDHAQ0Aa1g"
   },
   "outputs": [],
   "source": [
    "train = TensorDataset(x_train, y_train)\n",
    "test = TensorDataset(x_test, y_test)\n",
    "# Data loader\n",
    "train_loader = DataLoader(train, batch_size = 500, shuffle = True)\n",
    "test_loader = DataLoader(test, batch_size = 500, shuffle = False)"
   ]
  },
  {
   "cell_type": "code",
   "execution_count": 0,
   "metadata": {
    "colab": {},
    "colab_type": "code",
    "id": "MgRQSgItApx4"
   },
   "outputs": [],
   "source": [
    "import warnings\n",
    "warnings.filterwarnings('ignore')"
   ]
  },
  {
   "cell_type": "code",
   "execution_count": 0,
   "metadata": {
    "colab": {},
    "colab_type": "code",
    "id": "2b9wVCHSAp1x"
   },
   "outputs": [],
   "source": [
    "from torch.optim.lr_scheduler import MultiStepLR\n",
    "\n",
    "# Neural network architecture\n",
    "# 3 hidden layers, RELU + dropout\n",
    "net = torch.nn.Sequential(\n",
    "    torch.nn.Linear(500, 256), torch.nn.PReLU(), torch.nn.Dropout(0.2),\n",
    "    torch.nn.Linear(256, 128), torch.nn.PReLU(), torch.nn.Dropout(0.2),\n",
    "    torch.nn.Linear(128, 64), torch.nn.PReLU(), torch.nn.Dropout(0.2),\n",
    "    torch.nn.Linear(64, 2), torch.nn.Sigmoid())\n",
    "\n",
    "loss_fn = torch.nn.CrossEntropyLoss() # Loss function\n",
    "lr = 1e-3 # Learning rate\n",
    "optimizer = torch.optim.Adam(net.parameters(), lr = lr, weight_decay=1e-3/3) # Adam \n",
    "scheduler = MultiStepLR(optimizer, milestones=[50, 80], gamma = 0.1)\n",
    "epochs = 200"
   ]
  },
  {
   "cell_type": "code",
   "execution_count": 16,
   "metadata": {
    "colab": {
     "base_uri": "https://localhost:8080/",
     "height": 1000
    },
    "colab_type": "code",
    "id": "qD9x2DwvBikg",
    "outputId": "b2233bfa-3c1b-4371-bacb-0e5f2964afb4",
    "scrolled": false
   },
   "outputs": [
    {
     "name": "stdout",
     "output_type": "stream",
     "text": [
      "Epoch: 1, Loss: 6.480143215908501\n",
      "Epoch: 2, Loss: 6.445178324962114\n",
      "Epoch: 3, Loss: 6.434603117771789\n",
      "Epoch: 4, Loss: 6.426949951606705\n",
      "Epoch: 5, Loss: 6.422431302862383\n",
      "Epoch: 6, Loss: 6.419205835827302\n",
      "Epoch: 7, Loss: 6.416995644720224\n",
      "Epoch: 8, Loss: 6.415138520385714\n",
      "Epoch: 9, Loss: 6.413544275670034\n",
      "Epoch: 10, Loss: 6.411292956093306\n",
      "Epoch: 11, Loss: 6.410623857735356\n",
      "Epoch: 12, Loss: 6.408905699993555\n",
      "Epoch: 13, Loss: 6.4082733277452775\n",
      "Epoch: 14, Loss: 6.408109036915883\n",
      "Epoch: 15, Loss: 6.407991687364124\n",
      "Epoch: 16, Loss: 6.407967179008825\n",
      "Epoch: 17, Loss: 6.406821826889488\n",
      "Epoch: 18, Loss: 6.406744932497103\n",
      "Epoch: 19, Loss: 6.407217373261808\n",
      "Epoch: 20, Loss: 6.405786441844169\n",
      "Epoch: 21, Loss: 6.405873309276453\n",
      "Epoch: 22, Loss: 6.405097994401264\n",
      "Epoch: 23, Loss: 6.4040422501321315\n",
      "Epoch: 24, Loss: 6.403283145002383\n",
      "Epoch: 25, Loss: 6.40342229822102\n",
      "Epoch: 26, Loss: 6.404372771243653\n",
      "Epoch: 27, Loss: 6.403445900850853\n",
      "Epoch: 28, Loss: 6.403101105977742\n",
      "Epoch: 29, Loss: 6.4031695553733865\n",
      "Epoch: 30, Loss: 6.400168663852385\n",
      "Epoch: 31, Loss: 6.402479287807338\n",
      "Epoch: 32, Loss: 6.400951328944701\n",
      "Epoch: 33, Loss: 6.401695694094926\n",
      "Epoch: 34, Loss: 6.4015621240441885\n",
      "Epoch: 35, Loss: 6.4016140726550725\n",
      "Epoch: 36, Loss: 6.40240430476973\n",
      "Epoch: 37, Loss: 6.4025047677968905\n",
      "Epoch: 38, Loss: 6.402269029069004\n",
      "Epoch: 39, Loss: 6.400786602423546\n",
      "Epoch: 40, Loss: 6.399795441132572\n",
      "Epoch: 41, Loss: 6.400820535735159\n",
      "Epoch: 42, Loss: 6.401468531140686\n",
      "Epoch: 43, Loss: 6.400451721619314\n",
      "Epoch: 44, Loss: 6.3994134348529945\n",
      "Epoch: 45, Loss: 6.401361234413144\n",
      "Epoch: 46, Loss: 6.400479294039358\n",
      "Epoch: 47, Loss: 6.400428062446681\n",
      "Epoch: 48, Loss: 6.40052388306713\n",
      "Epoch: 49, Loss: 6.3992936341881945\n",
      "Epoch: 50, Loss: 6.372954977348716\n",
      "Epoch: 51, Loss: 6.36108909610499\n",
      "Epoch: 52, Loss: 6.356231868032909\n",
      "Epoch: 53, Loss: 6.3522830510372765\n",
      "Epoch: 54, Loss: 6.349941158913859\n",
      "Epoch: 55, Loss: 6.348221169948489\n",
      "Epoch: 56, Loss: 6.3457070893887435\n",
      "Epoch: 57, Loss: 6.344192384782852\n",
      "Epoch: 58, Loss: 6.343141706471099\n",
      "Epoch: 59, Loss: 6.340724964862085\n",
      "Epoch: 60, Loss: 6.338135919996701\n",
      "Epoch: 61, Loss: 6.33666393815929\n",
      "Epoch: 62, Loss: 6.334482728879598\n",
      "Epoch: 63, Loss: 6.331174685767941\n",
      "Epoch: 64, Loss: 6.330183926867447\n",
      "Epoch: 65, Loss: 6.328339266231147\n",
      "Epoch: 66, Loss: 6.326418659595194\n",
      "Epoch: 67, Loss: 6.3266715543799235\n",
      "Epoch: 68, Loss: 6.325520109860597\n",
      "Epoch: 69, Loss: 6.323824809979354\n",
      "Epoch: 70, Loss: 6.322174374555228\n",
      "Epoch: 71, Loss: 6.320432510463981\n",
      "Epoch: 72, Loss: 6.320204176067802\n",
      "Epoch: 73, Loss: 6.318321317821472\n",
      "Epoch: 74, Loss: 6.317626898001944\n",
      "Epoch: 75, Loss: 6.317992078115495\n",
      "Epoch: 76, Loss: 6.314903645505046\n",
      "Epoch: 77, Loss: 6.313263141494216\n",
      "Epoch: 78, Loss: 6.314257250642339\n",
      "Epoch: 79, Loss: 6.31287672695756\n",
      "Epoch: 80, Loss: 6.300677189078568\n",
      "Epoch: 81, Loss: 6.297564335528683\n",
      "Epoch: 82, Loss: 6.295970771407935\n",
      "Epoch: 83, Loss: 6.296691272374516\n",
      "Epoch: 84, Loss: 6.294969297126487\n",
      "Epoch: 85, Loss: 6.295509684992514\n",
      "Epoch: 86, Loss: 6.293781671805965\n",
      "Epoch: 87, Loss: 6.291528492907711\n",
      "Epoch: 88, Loss: 6.290647966103929\n",
      "Epoch: 89, Loss: 6.292056927348283\n",
      "Epoch: 90, Loss: 6.2902456880164\n",
      "Epoch: 91, Loss: 6.28994623873454\n",
      "Epoch: 92, Loss: 6.2885418512130045\n",
      "Epoch: 93, Loss: 6.288444752309006\n",
      "Epoch: 94, Loss: 6.286312172612521\n",
      "Epoch: 95, Loss: 6.287349823532505\n",
      "Epoch: 96, Loss: 6.286162076107286\n",
      "Epoch: 97, Loss: 6.284149742133347\n",
      "Epoch: 98, Loss: 6.284794140306743\n",
      "Epoch: 99, Loss: 6.2835943787506086\n",
      "Epoch: 100, Loss: 6.280832140513363\n",
      "Epoch: 101, Loss: 6.281546098125106\n",
      "Epoch: 102, Loss: 6.2788049274576725\n",
      "Epoch: 103, Loss: 6.2777593563830125\n",
      "Epoch: 104, Loss: 6.2767605000678985\n",
      "Epoch: 105, Loss: 6.275184662288431\n",
      "Epoch: 106, Loss: 6.2741806498249675\n",
      "Epoch: 107, Loss: 6.272925880796529\n",
      "Epoch: 108, Loss: 6.272037893812015\n",
      "Epoch: 109, Loss: 6.2706377130054305\n",
      "Epoch: 110, Loss: 6.268137230121892\n",
      "Epoch: 111, Loss: 6.268161738824079\n",
      "Epoch: 112, Loss: 6.265415312798231\n",
      "Epoch: 113, Loss: 6.263261198273333\n",
      "Epoch: 114, Loss: 6.262140472451334\n",
      "Epoch: 115, Loss: 6.259653805436771\n",
      "Epoch: 116, Loss: 6.260396021266814\n",
      "Epoch: 117, Loss: 6.258424419616035\n",
      "Epoch: 118, Loss: 6.256227745360179\n",
      "Epoch: 119, Loss: 6.255062111373131\n",
      "Epoch: 120, Loss: 6.25394070911886\n",
      "Epoch: 121, Loss: 6.2516351989918775\n",
      "Epoch: 122, Loss: 6.248510086407905\n",
      "Epoch: 123, Loss: 6.247281404423621\n",
      "Epoch: 124, Loss: 6.2451660220636915\n",
      "Epoch: 125, Loss: 6.243845788960699\n",
      "Epoch: 126, Loss: 6.243169402825524\n",
      "Epoch: 127, Loss: 6.241511286946568\n",
      "Epoch: 128, Loss: 6.2400337469172165\n",
      "Epoch: 129, Loss: 6.238730064204017\n",
      "Epoch: 130, Loss: 6.236552006404933\n",
      "Epoch: 131, Loss: 6.234048810854542\n",
      "Epoch: 132, Loss: 6.232505403319492\n",
      "Epoch: 133, Loss: 6.232553055024456\n",
      "Epoch: 134, Loss: 6.229681057846201\n",
      "Epoch: 135, Loss: 6.22693827137286\n",
      "Epoch: 136, Loss: 6.226334121960273\n",
      "Epoch: 137, Loss: 6.222484271168595\n",
      "Epoch: 138, Loss: 6.223945377015748\n",
      "Epoch: 139, Loss: 6.221422536484645\n",
      "Epoch: 140, Loss: 6.218675257807246\n",
      "Epoch: 141, Loss: 6.217014100411287\n",
      "Epoch: 142, Loss: 6.217060843962566\n",
      "Epoch: 143, Loss: 6.213837613663529\n",
      "Epoch: 144, Loss: 6.2131611241556275\n",
      "Epoch: 145, Loss: 6.2139371931660765\n",
      "Epoch: 146, Loss: 6.209294526288465\n",
      "Epoch: 147, Loss: 6.207992003569889\n",
      "Epoch: 148, Loss: 6.207888518104585\n",
      "Epoch: 149, Loss: 6.204778322066304\n",
      "Epoch: 150, Loss: 6.202909560321621\n",
      "Epoch: 151, Loss: 6.202723135934533\n",
      "Epoch: 152, Loss: 6.20019635024229\n",
      "Epoch: 153, Loss: 6.199515130564926\n",
      "Epoch: 154, Loss: 6.198138849324597\n",
      "Epoch: 155, Loss: 6.194488436783131\n",
      "Epoch: 156, Loss: 6.192162184120715\n",
      "Epoch: 157, Loss: 6.189113159760617\n",
      "Epoch: 158, Loss: 6.1895135896270475\n",
      "Epoch: 159, Loss: 6.185766320656536\n",
      "Epoch: 160, Loss: 6.185510370479271\n",
      "Epoch: 161, Loss: 6.181695543963049\n",
      "Epoch: 162, Loss: 6.180083770632446\n",
      "Epoch: 163, Loss: 6.177066304439467\n",
      "Epoch: 164, Loss: 6.176081312210808\n",
      "Epoch: 165, Loss: 6.173046322953119\n",
      "Epoch: 166, Loss: 6.170610490690967\n",
      "Epoch: 167, Loss: 6.16985125096854\n",
      "Epoch: 168, Loss: 6.169746895507268\n",
      "Epoch: 169, Loss: 6.162732083679959\n",
      "Epoch: 170, Loss: 6.163459512353663\n",
      "Epoch: 171, Loss: 6.161931207643346\n",
      "Epoch: 172, Loss: 6.161397203910407\n",
      "Epoch: 173, Loss: 6.1559049727888455\n",
      "Epoch: 174, Loss: 6.1568380660116535\n",
      "Epoch: 175, Loss: 6.152840369326317\n",
      "Epoch: 176, Loss: 6.150880060625586\n",
      "Epoch: 177, Loss: 6.147663336911223\n",
      "Epoch: 178, Loss: 6.14751075529789\n",
      "Epoch: 179, Loss: 6.143529486203874\n",
      "Epoch: 180, Loss: 6.14397391365345\n",
      "Epoch: 181, Loss: 6.140800885382483\n",
      "Epoch: 182, Loss: 6.1393641023053656\n",
      "Epoch: 183, Loss: 6.137768522763338\n",
      "Epoch: 184, Loss: 6.135526255584841\n",
      "Epoch: 185, Loss: 6.132888877032008\n",
      "Epoch: 186, Loss: 6.131250075202284\n",
      "Epoch: 187, Loss: 6.128279028219983\n",
      "Epoch: 188, Loss: 6.128769885633774\n",
      "Epoch: 189, Loss: 6.128058250092607\n",
      "Epoch: 190, Loss: 6.126606003773767\n",
      "Epoch: 191, Loss: 6.124720442573459\n",
      "Epoch: 192, Loss: 6.123950142316175\n",
      "Epoch: 193, Loss: 6.121040952810311\n",
      "Epoch: 194, Loss: 6.120788189843153\n",
      "Epoch: 195, Loss: 6.11776659949465\n",
      "Epoch: 196, Loss: 6.115832640085661\n",
      "Epoch: 197, Loss: 6.114690431815389\n",
      "Epoch: 198, Loss: 6.112374504631429\n",
      "Epoch: 199, Loss: 6.112308581276707\n",
      "Epoch: 200, Loss: 6.112599521040594\n"
     ]
    }
   ],
   "source": [
    "train_len = x_train.shape[0]\n",
    "losses = [] # to plot losses\n",
    "for epoch in range(epochs):\n",
    "    scheduler.step()\n",
    "    running_loss = 0\n",
    "    for i, data in enumerate(train_loader, 0):\n",
    "        inputs, labels = data\n",
    "        net.to(device)\n",
    "        inputs, labels = inputs.float(), labels.long()\n",
    "        inputs = inputs.to(device) # move to GPU\n",
    "        labels = labels.to(device)\n",
    "        #clear grads\n",
    "        optimizer.zero_grad()\n",
    "        #forward to get predicted values\n",
    "        outputs = net.forward(inputs)\n",
    "        loss = loss_fn(outputs, labels)\n",
    "        loss.backward()\n",
    "        # back props \n",
    "        optimizer.step()\n",
    "        # update the parameters\n",
    "        running_loss += loss.item()\n",
    "        \n",
    "    loss_ = running_loss / (train_len / 5000)\n",
    "    print('Epoch: {}, Loss: {}'.format(epoch + 1, loss_))\n",
    "    losses.append(loss_)"
   ]
  },
  {
   "cell_type": "code",
   "execution_count": 17,
   "metadata": {
    "colab": {
     "base_uri": "https://localhost:8080/",
     "height": 331
    },
    "colab_type": "code",
    "id": "PrRWFoYyBiuW",
    "outputId": "db8771ba-81c1-4471-8363-eba305cefdb7"
   },
   "outputs": [
    {
     "name": "stdout",
     "output_type": "stream",
     "text": [
      "200\n",
      "200\n",
      "\n"
     ]
    },
    {
     "data": {
      "image/png": "[encoded data removed]",
      "text/plain": [
       "<Figure size 432x288 with 1 Axes>"
      ]
     },
     "metadata": {
      "tags": []
     },
     "output_type": "display_data"
    }
   ],
   "source": [
    "import matplotlib.pyplot as plt\n",
    "print(len(losses)) # sanity check\n",
    "epochs_ = []\n",
    "for i in range(1, 201): # 200 epochs\n",
    "    epochs_.append(i)\n",
    "print(len(epochs_)) # sanity check\n",
    "print()\n",
    "plt.plot(epochs_, losses)\n",
    "plt.xlabel('Number of epochs')\n",
    "plt.ylabel('Training Loss')\n",
    "plt.show()"
   ]
  },
  {
   "cell_type": "code",
   "execution_count": 18,
   "metadata": {
    "colab": {
     "base_uri": "https://localhost:8080/",
     "height": 104
    },
    "colab_type": "code",
    "id": "E13oBTlRBi7v",
    "outputId": "3d3d487f-e457-4431-a35c-6df889e2c90e"
   },
   "outputs": [
    {
     "name": "stdout",
     "output_type": "stream",
     "text": [
      "Feed-forward Neural Network for TF-IDF vectorization:\n",
      "Training accuracy:  67.66495990725534\n",
      "Precision:  0.723756954948739  | Recall:  0.5714032972200366  | F1-score:  0.6386192129524235\n",
      "Confusion matrix values: \n",
      "TP:  245460 , FN:  184114 , FP:  93687 , TN:  335872\n"
     ]
    }
   ],
   "source": [
    "# Performance on train set\n",
    "with torch.no_grad():\n",
    "    correct, total = 0, 0\n",
    "    tp, fp, fn, tn = 0, 0, 0, 0 # for confusion matrix\n",
    "    for i, data in enumerate(train_loader, 0): \n",
    "        inputs, labels = data \n",
    "        net.to(device) \n",
    "        inputs, labels = inputs.float(), labels.long()\n",
    "        inputs = inputs.to(device) # move to GPU\n",
    "        labels = labels.to(device)\n",
    "        outputs = net(inputs)\n",
    "        _, predicted = torch.max(outputs.data, 1)\n",
    "        total += labels.size(0)\n",
    "        correct += (predicted == labels).sum().item()\n",
    "        # true positives\n",
    "        tp += (predicted[labels == 1] == labels[labels == 1]).sum().item()\n",
    "        # false negatives\n",
    "        fn += (predicted[labels == 1] != labels[labels == 1]).sum().item()\n",
    "        # false positives\n",
    "        fp += (predicted[labels == 0] != labels[labels == 0]).sum().item()\n",
    "        # true negatives\n",
    "        tn += (predicted[labels == 0] == labels[labels == 0]).sum().item()\n",
    "        precision = (tp / (tp + fp))\n",
    "        recall =  (tp / (tp + fn))\n",
    "        f1 = 2 * (precision * recall) / (precision + recall)\n",
    "\n",
    "print(\"Feed-forward Neural Network for TF-IDF vectorization:\")\n",
    "print(\"Training accuracy: \", (100 * correct) / total)\n",
    "print(\"Precision: \", precision, \" | Recall: \", recall, \" | F1-score: \", f1)\n",
    "print(\"Confusion matrix values: \")\n",
    "print(\"TP: \", tp, \", FN: \", fn, \", FP: \", fp, \", TN: \", tn)"
   ]
  },
  {
   "cell_type": "code",
   "execution_count": 20,
   "metadata": {
    "colab": {
     "base_uri": "https://localhost:8080/",
     "height": 87
    },
    "colab_type": "code",
    "id": "qlngBOLaAQui",
    "outputId": "35b22f70-f644-4d19-db6a-4de8ec39dd18"
   },
   "outputs": [
    {
     "name": "stdout",
     "output_type": "stream",
     "text": [
      "Testing accuracy:  65.54009496175152\n",
      "Precision:  0.6851977152208463  | Recall:  0.574517771855292  | F1-score:  0.6249955147296279\n",
      "Confusion matrix values: \n",
      "TP:  43545 , FN:  32249 , FP:  20006 , TN:  55840\n"
     ]
    }
   ],
   "source": [
    "# Performance on test set\n",
    "with torch.no_grad():\n",
    "    correct, total = 0, 0\n",
    "    tp, fp, fn, tn = 0, 0, 0, 0 # for confusion matrix\n",
    "    for i, data in enumerate(test_loader, 0): \n",
    "        inputs, labels = data \n",
    "        net.to(device) \n",
    "        inputs, labels = inputs.float(), labels.long()\n",
    "        inputs = inputs.to(device) # move to GPU\n",
    "        labels = labels.to(device)\n",
    "        outputs = net(inputs)\n",
    "        _, predicted = torch.max(outputs.data, 1)\n",
    "        total += labels.size(0)\n",
    "        correct += (predicted == labels).sum().item()\n",
    "        # true positives\n",
    "        tp += (predicted[labels == 1] == labels[labels == 1]).sum().item()\n",
    "        # false negatives\n",
    "        fn += (predicted[labels == 1] != labels[labels == 1]).sum().item()\n",
    "        # false positives\n",
    "        fp += (predicted[labels == 0] != labels[labels == 0]).sum().item()\n",
    "        # true negatives\n",
    "        tn += (predicted[labels == 0] == labels[labels == 0]).sum().item()\n",
    "        precision = (tp / (tp + fp))\n",
    "        recall =  (tp / (tp + fn))\n",
    "        f1 = 2 * (precision * recall) / (precision + recall)\n",
    "\n",
    "print(\"Testing accuracy: \", (100 * correct) / total)\n",
    "print(\"Precision: \", precision, \" | Recall: \", recall, \" | F1-score: \", f1)\n",
    "print(\"Confusion matrix values: \")\n",
    "print(\"TP: \", tp, \", FN: \", fn, \", FP: \", fp, \", TN: \", tn)"
   ]
  }
 ],
 "metadata": {
  "accelerator": "GPU",
  "colab": {
   "collapsed_sections": [],
   "name": "FeedForward_NN.ipynb",
   "provenance": []
  },
  "kernelspec": {
   "display_name": "Python 3",
   "language": "python",
   "name": "python3"
  },
  "language_info": {
   "codemirror_mode": {
    "name": "ipython",
    "version": 3
   },
   "file_extension": ".py",
   "mimetype": "text/x-python",
   "name": "python",
   "nbconvert_exporter": "python",
   "pygments_lexer": "ipython3",
   "version": "3.7.0"
  }
 },
 "nbformat": 4,
 "nbformat_minor": 1
}
