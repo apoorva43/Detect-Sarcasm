{
 "cells": [
  {
   "cell_type": "code",
   "execution_count": 1,
   "metadata": {},
   "outputs": [],
   "source": [
    "import warnings\n",
    "warnings.filterwarnings('ignore')"
   ]
  },
  {
   "cell_type": "code",
   "execution_count": 2,
   "metadata": {},
   "outputs": [
    {
     "name": "stdout",
     "output_type": "stream",
     "text": [
      "Logistic Regression for TF-IDF vectorization: \n",
      "[LibLinear]Train model accuracy:  0.6494086645397756\n",
      "Test model accuracy:  0.6492982271000423\n",
      "F1 score: 0.6477244099210593\n",
      "Precision:  0.6525348604612655\n",
      "Recall:  0.6496206694134015\n",
      "Confusion Matrix: \n",
      "[[54289 21169]\n",
      " [32003 44155]]\n",
      "\n",
      "\n",
      "Logistic Regression for Count vectorization: \n",
      "[LibLinear]Train model accuracy:  0.664772561941531\n",
      "Test model accuracy:  0.6660906500633178\n",
      "F1 score: 0.6631273551903342\n",
      "Precision:  0.6719518844298932\n",
      "Recall:  0.6659790246149415\n",
      "Confusion Matrix: \n",
      "[[57605 18294]\n",
      " [32332 43385]]\n"
     ]
    }
   ],
   "source": [
    "from logistic_regression import main\n",
    "main()"
   ]
  },
  {
   "cell_type": "code",
   "execution_count": 3,
   "metadata": {},
   "outputs": [
    {
     "name": "stdout",
     "output_type": "stream",
     "text": [
      "Support Vector Machine for TF-IDF vectorization: \n",
      "Train model accuracy:  0.6669363108256117\n",
      "Test model accuracy:  0.6659653334740396\n",
      "F1 score: 0.664645660799905\n",
      "Precision:  0.6692643118681374\n",
      "Recall:  0.6663528096307234\n",
      "Confusion Matrix: \n",
      "[[55241 20126]\n",
      " [30519 45730]]\n",
      "\n",
      "\n",
      "Support Vector Machine for Count vectorization: \n",
      "Train model accuracy:  0.6651729544192738\n",
      "Test model accuracy:  0.6631556036302237\n",
      "F1 score: 0.6597170400531831\n",
      "Precision:  0.6697927305097371\n",
      "Recall:  0.6630215488802524\n",
      "Confusion Matrix: \n",
      "[[57893 18017]\n",
      " [33054 42652]]\n"
     ]
    }
   ],
   "source": [
    "from support_vector_machine import main\n",
    "main()"
   ]
  }
 ],
 "metadata": {
  "kernelspec": {
   "display_name": "Python 3",
   "language": "python",
   "name": "python3"
  },
  "language_info": {
   "codemirror_mode": {
    "name": "ipython",
    "version": 3
   },
   "file_extension": ".py",
   "mimetype": "text/x-python",
   "name": "python",
   "nbconvert_exporter": "python",
   "pygments_lexer": "ipython3",
   "version": "3.7.0"
  }
 },
 "nbformat": 4,
 "nbformat_minor": 2
}
